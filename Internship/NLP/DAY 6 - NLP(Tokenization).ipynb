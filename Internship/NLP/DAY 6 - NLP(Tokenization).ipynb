{
 "cells": [
  {
   "cell_type": "code",
   "execution_count": 1,
   "id": "41e579ee",
   "metadata": {},
   "outputs": [],
   "source": [
    "# NLUnderstanding - unstructered form to structered form for machine\n",
    "\n",
    "# Steps:\n",
    "    # Data collection\n",
    "    # Text wrangling and preprocessing\n",
    "    # vectorization and feature engineering\n",
    "    # model building and intilization\n",
    "    # train and test model\n",
    "    # model evaluation\n",
    "    # deploymwnt\n",
    "    # monitoring and model updating\n",
    "    "
   ]
  },
  {
   "cell_type": "code",
   "execution_count": 2,
   "id": "a31ed4fb",
   "metadata": {},
   "outputs": [
    {
     "name": "stdout",
     "output_type": "stream",
     "text": [
      "showing info https://raw.githubusercontent.com/nltk/nltk_data/gh-pages/index.xml\n"
     ]
    },
    {
     "data": {
      "text/plain": [
       "True"
      ]
     },
     "execution_count": 2,
     "metadata": {},
     "output_type": "execute_result"
    }
   ],
   "source": [
    "import nltk #natural language tool kit\n",
    "nltk.download()"
   ]
  },
  {
   "cell_type": "code",
   "execution_count": 3,
   "id": "f40f2696",
   "metadata": {},
   "outputs": [
    {
     "name": "stdout",
     "output_type": "stream",
     "text": [
      "3.7\n"
     ]
    }
   ],
   "source": [
    "print(nltk.__version__)"
   ]
  },
  {
   "cell_type": "code",
   "execution_count": 4,
   "id": "10f8eda7",
   "metadata": {},
   "outputs": [
    {
     "data": {
      "text/plain": [
       "['vectorization and feature engineering monitoring and model updating.',\n",
       " 'Hello Bye']"
      ]
     },
     "execution_count": 4,
     "metadata": {},
     "output_type": "execute_result"
    }
   ],
   "source": [
    "word = \"vectorization and feature engineering monitoring and model updating. Hello Bye\"\n",
    "token = nltk.sent_tokenize(word)\n",
    "token"
   ]
  },
  {
   "cell_type": "code",
   "execution_count": 5,
   "id": "8382ca4e",
   "metadata": {},
   "outputs": [
    {
     "name": "stderr",
     "output_type": "stream",
     "text": [
      "[nltk_data] Downloading package punkt to\n",
      "[nltk_data]     C:\\Users\\Welcome\\AppData\\Roaming\\nltk_data...\n",
      "[nltk_data]   Package punkt is already up-to-date!\n"
     ]
    },
    {
     "data": {
      "text/plain": [
       "True"
      ]
     },
     "execution_count": 5,
     "metadata": {},
     "output_type": "execute_result"
    }
   ],
   "source": [
    "import nltk\n",
    "nltk.download('punkt')"
   ]
  },
  {
   "cell_type": "code",
   "execution_count": 6,
   "id": "87a3cac6",
   "metadata": {},
   "outputs": [
    {
     "data": {
      "text/plain": [
       "['vectorization',\n",
       " 'and',\n",
       " 'feature',\n",
       " 'engineering',\n",
       " 'monitoring',\n",
       " 'and',\n",
       " 'model',\n",
       " 'updating',\n",
       " '.',\n",
       " 'Hello',\n",
       " 'Bye']"
      ]
     },
     "execution_count": 6,
     "metadata": {},
     "output_type": "execute_result"
    }
   ],
   "source": [
    "word = \"vectorization and feature engineering monitoring and model updating. Hello Bye\"\n",
    "token = nltk.word_tokenize(word)\n",
    "token"
   ]
  },
  {
   "cell_type": "code",
   "execution_count": 17,
   "id": "284cd832",
   "metadata": {},
   "outputs": [
    {
     "data": {
      "text/plain": [
       "['This',\n",
       " 'sample',\n",
       " 'sentence',\n",
       " ',',\n",
       " 'showing',\n",
       " 'stop',\n",
       " 'words',\n",
       " 'filtration',\n",
       " '.']"
      ]
     },
     "execution_count": 17,
     "metadata": {},
     "output_type": "execute_result"
    }
   ],
   "source": [
    "from nltk.corpus import stopwords\n",
    "from nltk.tokenize import word_tokenize\n",
    "\n",
    "example_sent = \"\"\"This is a sample sentence,\n",
    "showing off the stop words filtration.\"\"\"\n",
    "\n",
    "stop_words = set(stopwords.words('english'))\n",
    "\n",
    "word_tokens = word_tokenize(example_sent)\n",
    "\n",
    "filtered_sentence = [w for w in word_tokens if not w.lower() in stop_words]\n",
    "\n",
    "filtered_sentence"
   ]
  },
  {
   "cell_type": "code",
   "execution_count": 18,
   "id": "9266617e",
   "metadata": {},
   "outputs": [
    {
     "data": {
      "text/plain": [
       "['This',\n",
       " 'sample',\n",
       " 'sentence.',\n",
       " '>',\n",
       " '>',\n",
       " '>',\n",
       " 'showing',\n",
       " '&',\n",
       " '^',\n",
       " '&',\n",
       " '*',\n",
       " 'f',\n",
       " 'stop',\n",
       " 'words',\n",
       " '?',\n",
       " '?',\n",
       " '?',\n",
       " '?',\n",
       " 'filtration',\n",
       " '.']"
      ]
     },
     "execution_count": 18,
     "metadata": {},
     "output_type": "execute_result"
    }
   ],
   "source": [
    "example_sent = \"\"\"This is a sample sentence.>>>\n",
    "showing of&^&*f the stop words???? filtration.\"\"\"\n",
    "\n",
    "stop_words = set(stopwords.words('english'))\n",
    "\n",
    "word_tokens = word_tokenize(example_sent)\n",
    "\n",
    "filtered_sentence1 = [w for w in word_tokens if not w in stop_words]\n",
    "\n",
    "filtered_sentence1"
   ]
  },
  {
   "cell_type": "code",
   "execution_count": 19,
   "id": "17a74df2",
   "metadata": {},
   "outputs": [],
   "source": [
    "from string import punctuation"
   ]
  },
  {
   "cell_type": "code",
   "execution_count": 20,
   "id": "1178bcc3",
   "metadata": {},
   "outputs": [
    {
     "data": {
      "text/plain": [
       "'!\"#$%&\\'()*+,-./:;<=>?@[\\\\]^_`{|}~'"
      ]
     },
     "execution_count": 20,
     "metadata": {},
     "output_type": "execute_result"
    }
   ],
   "source": [
    "punctuation"
   ]
  },
  {
   "cell_type": "code",
   "execution_count": 23,
   "id": "54fe63af",
   "metadata": {},
   "outputs": [
    {
     "data": {
      "text/plain": [
       "['This',\n",
       " 'is',\n",
       " 'a',\n",
       " 'sample',\n",
       " 'sentence.',\n",
       " 'showing',\n",
       " 'of',\n",
       " 'f',\n",
       " 'the',\n",
       " 'stop',\n",
       " 'words',\n",
       " 'filtration']"
      ]
     },
     "execution_count": 23,
     "metadata": {},
     "output_type": "execute_result"
    }
   ],
   "source": [
    "filtered_sentence2 = [i for i in word_tokens if i not in punctuation]\n",
    "filtered_sentence2"
   ]
  },
  {
   "cell_type": "code",
   "execution_count": 24,
   "id": "8a4bc862",
   "metadata": {},
   "outputs": [
    {
     "data": {
      "text/plain": [
       "['This',\n",
       " 'is',\n",
       " 'a',\n",
       " 'sample',\n",
       " 'sentence.',\n",
       " '>',\n",
       " '>',\n",
       " '>',\n",
       " 'showing',\n",
       " 'of',\n",
       " '&',\n",
       " '^',\n",
       " '&',\n",
       " '*',\n",
       " 'f',\n",
       " 'the',\n",
       " 'stop',\n",
       " 'words',\n",
       " '?',\n",
       " '?',\n",
       " '?',\n",
       " '?',\n",
       " 'filtration',\n",
       " '.']"
      ]
     },
     "execution_count": 24,
     "metadata": {},
     "output_type": "execute_result"
    }
   ],
   "source": [
    "word_tokens"
   ]
  },
  {
   "cell_type": "markdown",
   "id": "488e2527",
   "metadata": {},
   "source": [
    "# Normalization"
   ]
  },
  {
   "cell_type": "code",
   "execution_count": 25,
   "id": "beb5dd35",
   "metadata": {},
   "outputs": [
    {
     "data": {
      "text/plain": [
       "['this',\n",
       " 'is',\n",
       " 'a',\n",
       " 'sample',\n",
       " 'sentence.',\n",
       " 'showing',\n",
       " 'of',\n",
       " 'f',\n",
       " 'the',\n",
       " 'stop',\n",
       " 'words',\n",
       " 'filtration']"
      ]
     },
     "execution_count": 25,
     "metadata": {},
     "output_type": "execute_result"
    }
   ],
   "source": [
    "lower = [i.lower() for i in filtered_sentence2]\n",
    "lower"
   ]
  },
  {
   "cell_type": "code",
   "execution_count": 26,
   "id": "3c7dc429",
   "metadata": {},
   "outputs": [
    {
     "data": {
      "text/plain": [
       "['THIS',\n",
       " 'IS',\n",
       " 'A',\n",
       " 'SAMPLE',\n",
       " 'SENTENCE.',\n",
       " 'SHOWING',\n",
       " 'OF',\n",
       " 'F',\n",
       " 'THE',\n",
       " 'STOP',\n",
       " 'WORDS',\n",
       " 'FILTRATION']"
      ]
     },
     "execution_count": 26,
     "metadata": {},
     "output_type": "execute_result"
    }
   ],
   "source": [
    "upper = [i.upper() for i in filtered_sentence2]\n",
    "upper"
   ]
  },
  {
   "cell_type": "code",
   "execution_count": 27,
   "id": "011c8c2b",
   "metadata": {},
   "outputs": [
    {
     "data": {
      "text/plain": [
       "['tHIS',\n",
       " 'IS',\n",
       " 'A',\n",
       " 'SAMPLE',\n",
       " 'SENTENCE.',\n",
       " 'SHOWING',\n",
       " 'OF',\n",
       " 'F',\n",
       " 'THE',\n",
       " 'STOP',\n",
       " 'WORDS',\n",
       " 'FILTRATION']"
      ]
     },
     "execution_count": 27,
     "metadata": {},
     "output_type": "execute_result"
    }
   ],
   "source": [
    "swapcase = [i.swapcase() for i in filtered_sentence2]\n",
    "swapcase"
   ]
  },
  {
   "cell_type": "markdown",
   "id": "5ef7a313",
   "metadata": {},
   "source": [
    "# Stemming and lamitization"
   ]
  },
  {
   "cell_type": "code",
   "execution_count": null,
   "id": "fcc3ce95",
   "metadata": {},
   "outputs": [],
   "source": []
  }
 ],
 "metadata": {
  "kernelspec": {
   "display_name": "Python 3 (ipykernel)",
   "language": "python",
   "name": "python3"
  },
  "language_info": {
   "codemirror_mode": {
    "name": "ipython",
    "version": 3
   },
   "file_extension": ".py",
   "mimetype": "text/x-python",
   "name": "python",
   "nbconvert_exporter": "python",
   "pygments_lexer": "ipython3",
   "version": "3.10.9"
  }
 },
 "nbformat": 4,
 "nbformat_minor": 5
}
